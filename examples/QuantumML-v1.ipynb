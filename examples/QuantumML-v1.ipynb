{
 "cells": [
  {
   "cell_type": "markdown",
   "metadata": {},
   "source": [
    "# Quantum Machine Learning"
   ]
  },
  {
   "cell_type": "markdown",
   "metadata": {},
   "source": [
    "Eigenvalue problem"
   ]
  },
  {
   "cell_type": "code",
   "execution_count": 2,
   "metadata": {},
   "outputs": [],
   "source": [
    "import os\n",
    "import qiskit\n",
    "\n",
    "from qiskit import *\n",
    "\n",
    "from qiskit_aer import Aer\n",
    "from qiskit_aer import *\n",
    "\n",
    "from qiskit.visualization import *\n",
    "\n",
    "# SciPy minimizer routine\n",
    "from scipy.optimize import minimize\n",
    "import time\n",
    "import numpy as np\n"
   ]
  },
  {
   "cell_type": "code",
   "execution_count": 3,
   "metadata": {},
   "outputs": [],
   "source": [
    "with open(os.path.expanduser('~')+\"/Documents/keys/ibm-token.txt\") as f:\n",
    "    # Newline character must be excluded\n",
    "    IBM_token = f.readline()[:-1]"
   ]
  },
  {
   "cell_type": "markdown",
   "metadata": {},
   "source": [
    "$\n",
    "\\hat{O} = 2 \\mathcal{I}\\mathcal{I} - 2 \\mathcal{X}\\mathcal{X} + 3 \\mathcal{Y}\\mathcal{Y} -3 \\mathcal{Z}\\mathcal{Z}$"
   ]
  },
  {
   "cell_type": "code",
   "execution_count": 4,
   "metadata": {},
   "outputs": [],
   "source": [
    "from qiskit.quantum_info import SparsePauliOp\n",
    "\n",
    "observable = SparsePauliOp.from_list([(\"II\", 2), (\"XX\", -2), (\"YY\", 3), (\"ZZ\", -3)])\n",
    "\n",
    "## Or via triples and local Paulis with indices\n",
    "# observable = SparsePauliOp.from_sparse_list([(\"II\", [0, 1], 2), (\"XX\", [0, 1], -2),(\"YY\", [0, 1], 3),(\"XX\", [0, 1], -3)], num_qubits=127)\n",
    "# observable.num_qubits"
   ]
  },
  {
   "cell_type": "code",
   "execution_count": 5,
   "metadata": {},
   "outputs": [],
   "source": [
    "\n",
    "from qiskit.circuit.library import TwoLocal\n",
    "from qiskit import QuantumCircuit\n",
    "from qiskit_ibm_runtime import QiskitRuntimeService, Estimator, Session\n",
    "\n",
    "def cost_func_vqe(params, ansatz, hamiltonian, estimator):\n",
    "    \"\"\"Return estimate of energy from estimator\n",
    "\n",
    "    Parameters:\n",
    "        params (ndarray): Array of ansatz parameters\n",
    "        ansatz (QuantumCircuit): Parameterized ansatz circuit\n",
    "        hamiltonian (SparsePauliOp): Operator representation of Hamiltonian\n",
    "        estimator (Estimator): Estimator primitive instance\n",
    "\n",
    "    Returns:\n",
    "        float: Energy estimate\n",
    "    \"\"\"\n",
    "    cost = estimator.run(ansatz, hamiltonian, parameter_values=params).result().values[0]\n",
    "    return cost"
   ]
  },
  {
   "cell_type": "code",
   "execution_count": 6,
   "metadata": {},
   "outputs": [
    {
     "data": {
      "image/png": "[encoded data removed]",
      "text/plain": [
       "<Figure size 621.739x200.667 with 1 Axes>"
      ]
     },
     "execution_count": 6,
     "metadata": {},
     "output_type": "execute_result"
    }
   ],
   "source": [
    "import numpy as np\n",
    "\n",
    "reference_circuit = QuantumCircuit(2)\n",
    "reference_circuit.x(0)\n",
    "\n",
    "variational_form = TwoLocal(\n",
    "    2,\n",
    "    rotation_blocks=[\"rz\", \"ry\"],\n",
    "    entanglement_blocks=\"cx\",\n",
    "    entanglement=\"linear\",\n",
    "    reps=1,\n",
    ")\n",
    "ansatz = reference_circuit.compose(variational_form)\n",
    "\n",
    "ansatz.decompose().draw('mpl')"
   ]
  },
  {
   "cell_type": "markdown",
   "metadata": {},
   "source": [
    "# In Simulator "
   ]
  },
  {
   "cell_type": "code",
   "execution_count": 7,
   "metadata": {},
   "outputs": [
    {
     "data": {
      "image/png": "[encoded data removed]",
      "text/plain": [
       "<Figure size 538.128x200.667 with 1 Axes>"
      ]
     },
     "execution_count": 7,
     "metadata": {},
     "output_type": "execute_result"
    }
   ],
   "source": [
    "from qiskit import transpile\n",
    "ansatz_sim=transpile(ansatz)\n",
    "ansatz_sim.draw(output=\"mpl\")"
   ]
  },
  {
   "cell_type": "code",
   "execution_count": 8,
   "metadata": {},
   "outputs": [],
   "source": [
    "from qiskit.primitives import Estimator\n",
    "\n",
    "backend = Aer.get_backend('qasm_simulator')\n",
    "\n",
    "# x0 is the initial values of the parameters\n",
    "x0 = np.ones(8) * np.pi/4\n",
    "\n",
    "estimator = Estimator()\n",
    "estimator.shots=512\n",
    "\n",
    "res = minimize(\n",
    "    cost_func_vqe,\n",
    "    x0,\n",
    "    args=(ansatz_sim, observable, estimator),\n",
    "    method=\"cobyla\",\n",
    ")\n",
    "\n"
   ]
  },
  {
   "cell_type": "code",
   "execution_count": 9,
   "metadata": {},
   "outputs": [
    {
     "data": {
      "text/plain": [
       " message: Optimization terminated successfully.\n",
       " success: True\n",
       "  status: 1\n",
       "     fun: -5.999999968692013\n",
       "       x: [ 2.029e+00  5.615e-01  1.571e+00 -5.988e-06  1.366e+00\n",
       "            1.775e+00  1.227e+00  1.227e+00]\n",
       "    nfev: 130\n",
       "   maxcv: 0.0"
      ]
     },
     "execution_count": 9,
     "metadata": {},
     "output_type": "execute_result"
    }
   ],
   "source": [
    "res"
   ]
  },
  {
   "cell_type": "code",
   "execution_count": null,
   "metadata": {},
   "outputs": [],
   "source": []
  },
  {
   "cell_type": "markdown",
   "metadata": {},
   "source": [
    "# In Real Quantum Computer"
   ]
  },
  {
   "cell_type": "code",
   "execution_count": 22,
   "metadata": {},
   "outputs": [],
   "source": [
    "# IBM Qiskit Runtime\n",
    "from qiskit_ibm_runtime import QiskitRuntimeService\n",
    "from qiskit_ibm_runtime import Estimator, Sampler, Session"
   ]
  },
  {
   "cell_type": "code",
   "execution_count": 23,
   "metadata": {},
   "outputs": [],
   "source": [
    "# Add your token below\n",
    "service = QiskitRuntimeService(channel='ibm_quantum', instance='ibm-q/open/main', token=IBM_token)"
   ]
  },
  {
   "cell_type": "code",
   "execution_count": 24,
   "metadata": {},
   "outputs": [
    {
     "name": "stdout",
     "output_type": "stream",
     "text": [
      "ibm_kyoto\n"
     ]
    }
   ],
   "source": [
    "\n",
    "backend=service.least_busy(operational=True, simulator=False)\n",
    "print(backend.name)\n",
    "session = Session(backend=backend)\n",
    "estimator = Estimator(session=session)\n",
    "sampler = Sampler(session=session)"
   ]
  },
  {
   "cell_type": "code",
   "execution_count": 25,
   "metadata": {},
   "outputs": [
    {
     "name": "stdout",
     "output_type": "stream",
     "text": [
      "2\n",
      "127\n",
      "2\n",
      "127\n"
     ]
    }
   ],
   "source": [
    "print(ansatz.num_qubits)\n",
    "ansatz_ibm=transpile(ansatz,backend=backend)\n",
    "print(ansatz_ibm.num_qubits)\n",
    "print(observable.num_qubits)\n",
    "observable_ibm = observable.apply_layout(ansatz_ibm.layout)\n",
    "print(observable_ibm.num_qubits)"
   ]
  },
  {
   "cell_type": "code",
   "execution_count": 26,
   "metadata": {},
   "outputs": [
    {
     "name": "stderr",
     "output_type": "stream",
     "text": [
      "/opt/anaconda3/envs/quantum/lib/python3.8/site-packages/qiskit_ibm_runtime/qiskit_runtime_service.py:935: UserWarning: Starting a session using the /jobs endpoint will no longer be supported after March 31, 2024. Please update your code as soon as possible before this date. If you are using qiskit-ibm-runtime, you will need version 0.20.0 or higher. If you are using qiskit-ibm-provider, you will need version 0.10.0 or higher. If you are calling the API directly, please use the /sessions endpoint instead.\n",
      "  warnings.warn(warning_message)\n",
      "Traceback (most recent call last):\n",
      "capi_return is NULL\n",
      "Call-back cb_calcfc_in__cobyla__user__routines failed.\n",
      "Fatal Python error: F2PySwapThreadLocalCallbackPtr: PyLong_AsVoidPtr failed\n",
      "Python runtime state: initialized\n",
      "  File \"/opt/anaconda3/envs/quantum/lib/python3.8/site-packages/scipy/optimize/_cobyla_py.py\", line 258, in calcfc\n",
      "    f = fun(np.copy(x), *args)\n",
      "  File \"/var/folders/lx/_zyyxd0945x3lbrz0g5vm9940000gn/T/ipykernel_10099/176364455.py\", line 17, in cost_func_vqe\n",
      "  File \"/opt/anaconda3/envs/quantum/lib/python3.8/site-packages/qiskit_ibm_runtime/runtime_job.py\", line 225, in result\n",
      "    raise RuntimeInvalidStateError(\n",
      "qiskit_ibm_runtime.exceptions.RuntimeInvalidStateError: 'Unable to retrieve result for job cqs37b54x0mg008jg5zg. Job was cancelled.'\n"
     ]
    },
    {
     "ename": "",
     "evalue": "",
     "output_type": "error",
     "traceback": [
      "\u001b[1;31mThe Kernel crashed while executing code in the current cell or a previous cell. \n",
      "\u001b[1;31mPlease review the code in the cell(s) to identify a possible cause of the failure. \n",
      "\u001b[1;31mClick <a href='https://aka.ms/vscodeJupyterKernelCrash'>here</a> for more info. \n",
      "\u001b[1;31mView Jupyter <a href='command:jupyter.viewOutput'>log</a> for further details."
     ]
    }
   ],
   "source": [
    "options = Options()\n",
    "options.transpilation.skip_transpilation = True\n",
    "options.execution.shots = 1024\n",
    "\n",
    "with Session(backend=backend):\n",
    "    estimator = Estimator(options=options)\n",
    "    res = minimize(\n",
    "        cost_func_vqe,\n",
    "        x0,\n",
    "        args=(ansatz_ibm, observable_ibm, estimator),\n",
    "        method=\"cobyla\"\n",
    "    )\n",
    "\n",
    "## # In v2, I am gonna introduce callback function to make it more convenient for post processing"
   ]
  },
  {
   "cell_type": "markdown",
   "metadata": {},
   "source": [
    "/opt/anaconda3/envs/quantum/lib/python3.8/site-packages/qiskit_ibm_runtime/qiskit_runtime_service.py:935: UserWarning: Starting a session using the /jobs endpoint will no longer be supported after March 31, 2024. Please update your code as soon as possible before this date. If you are using qiskit-ibm-runtime, you will need version 0.20.0 or higher. If you are using qiskit-ibm-provider, you will need version 0.10.0 or higher. If you are calling the API directly, please use the /sessions endpoint instead.\n",
    "  warnings.warn(warning_message)"
   ]
  },
  {
   "cell_type": "code",
   "execution_count": 8,
   "metadata": {},
   "outputs": [
    {
     "data": {
      "text/plain": [
       "127"
      ]
     },
     "execution_count": 8,
     "metadata": {},
     "output_type": "execute_result"
    }
   ],
   "source": [
    "jobid= \"cqs37b54x0mg008jg5zg\"\n",
    "retrieved_job = backend.service.job(jobid)\n",
    "retrieved_job.result()"
   ]
  },
  {
   "cell_type": "code",
   "execution_count": null,
   "metadata": {},
   "outputs": [],
   "source": []
  }
 ],
 "metadata": {
  "kernelspec": {
   "display_name": "quantum",
   "language": "python",
   "name": "python3"
  },
  "language_info": {
   "codemirror_mode": {
    "name": "ipython",
    "version": 3
   },
   "file_extension": ".py",
   "mimetype": "text/x-python",
   "name": "python",
   "nbconvert_exporter": "python",
   "pygments_lexer": "ipython3",
   "version": "3.8.18"
  }
 },
 "nbformat": 4,
 "nbformat_minor": 2
}

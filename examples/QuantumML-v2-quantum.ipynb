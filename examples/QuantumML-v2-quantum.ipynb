{
 "cells": [
  {
   "cell_type": "markdown",
   "metadata": {},
   "source": [
    "# Quantum Machine Learning"
   ]
  },
  {
   "cell_type": "markdown",
   "metadata": {},
   "source": [
    "Eigenvalue problem"
   ]
  },
  {
   "cell_type": "code",
   "execution_count": 2,
   "metadata": {},
   "outputs": [],
   "source": [
    "import os\n",
    "import qiskit\n",
    "\n",
    "from qiskit import *\n",
    "\n",
    "from qiskit_aer import Aer\n",
    "from qiskit_aer import *\n",
    "\n",
    "from qiskit.visualization import *\n",
    "\n",
    "# SciPy minimizer routine\n",
    "from scipy.optimize import minimize\n",
    "import time\n",
    "import numpy as np\n",
    "\n",
    "from qiskit.quantum_info import SparsePauliOp\n"
   ]
  },
  {
   "cell_type": "code",
   "execution_count": 3,
   "metadata": {},
   "outputs": [],
   "source": [
    "with open(os.path.expanduser('~')+\"/Documents/keys/ibm-token.txt\") as f:\n",
    "    # Newline character must be excluded\n",
    "    IBM_token = f.readline()[:-1]"
   ]
  },
  {
   "cell_type": "markdown",
   "metadata": {},
   "source": [
    "# Step 1. Map classical inputs to a quantum problem\n",
    "$\n",
    "\\hat{\\mathcal{H}}\\ =\\ 0.3980 \\mathcal{Y}\\mathcal{Z} - 0.3980 \\mathcal{Z}\\mathcal{I} - 0.0113 \\mathcal{Z}\\mathcal{Z} + 0.1810 \\mathcal{X}\\mathcal{X}$"
   ]
  },
  {
   "cell_type": "code",
   "execution_count": 4,
   "metadata": {},
   "outputs": [],
   "source": [
    "hamiltonian = SparsePauliOp.from_list(\n",
    "    [(\"YZ\", 0.3980), (\"ZI\", -0.3980), (\"ZZ\", -0.0113), (\"XX\", 0.1810)]\n",
    ")"
   ]
  },
  {
   "cell_type": "code",
   "execution_count": 5,
   "metadata": {},
   "outputs": [],
   "source": [
    "\n",
    "from qiskit.circuit.library import TwoLocal\n",
    "from qiskit import QuantumCircuit\n",
    "from qiskit_ibm_runtime import QiskitRuntimeService, Estimator, Session\n",
    "\n",
    "def cost_func(params, ansatz, hamiltonian, estimator):\n",
    "    \"\"\"Return estimate of energy from estimator\n",
    "\n",
    "    Parameters:\n",
    "        params (ndarray): Array of ansatz parameters\n",
    "        ansatz (QuantumCircuit): Parameterized ansatz circuit\n",
    "        hamiltonian (SparsePauliOp): Operator representation of Hamiltonian\n",
    "        estimator (Estimator): Estimator primitive instance\n",
    "\n",
    "    Returns:\n",
    "        float: Energy estimate\n",
    "    \"\"\"\n",
    "    energy = estimator.run(ansatz, hamiltonian, parameter_values=params).result().values[0]\n",
    "    return energy"
   ]
  },
  {
   "cell_type": "code",
   "execution_count": 6,
   "metadata": {},
   "outputs": [
    {
     "data": {
      "image/png": "[encoded data removed]",
      "text/plain": [
       "<Figure size 621.739x200.667 with 1 Axes>"
      ]
     },
     "execution_count": 6,
     "metadata": {},
     "output_type": "execute_result"
    }
   ],
   "source": [
    "import numpy as np\n",
    "\n",
    "reference_circuit = QuantumCircuit(2)\n",
    "reference_circuit.x(0)\n",
    "\n",
    "variational_form = TwoLocal(\n",
    "    2,\n",
    "    rotation_blocks=[\"rz\", \"ry\"],\n",
    "    entanglement_blocks=\"cx\",\n",
    "    entanglement=\"linear\",\n",
    "    reps=1,\n",
    ")\n",
    "ansatz = reference_circuit.compose(variational_form)\n",
    "\n",
    "ansatz.decompose().draw('mpl')"
   ]
  },
  {
   "cell_type": "markdown",
   "metadata": {},
   "source": [
    "# 2. Callback methods for better post processing\n",
    "\n",
    "We can introcude methods that will be executed at each iteration in QuantumComputer"
   ]
  },
  {
   "cell_type": "code",
   "execution_count": 7,
   "metadata": {},
   "outputs": [],
   "source": [
    "def build_callback(ansatz, hamiltonian, estimator, callback_dict):\n",
    "    \"\"\"Return callback function that uses Estimator instance,\n",
    "    and stores intermediate values into a dictionary.\n",
    "\n",
    "    Parameters:\n",
    "        ansatz (QuantumCircuit): Parameterized ansatz circuit\n",
    "        hamiltonian (SparsePauliOp): Operator representation of Hamiltonian\n",
    "        estimator (Estimator): Estimator primitive instance\n",
    "        callback_dict (dict): Mutable dict for storing values\n",
    "\n",
    "    Returns:\n",
    "        Callable: Callback function object\n",
    "    \"\"\"\n",
    "\n",
    "    def callback(current_vector):\n",
    "        \"\"\"Callback function storing previous solution vector,\n",
    "        computing the intermediate cost value, and displaying number\n",
    "        of completed iterations and average time per iteration.\n",
    "\n",
    "        Values are stored in pre-defined 'callback_dict' dictionary.\n",
    "\n",
    "        Parameters:\n",
    "            current_vector (ndarray): Current vector of parameters\n",
    "                                      returned by optimizer\n",
    "        \"\"\"\n",
    "        # Keep track of the number of iterations\n",
    "        callback_dict[\"iters\"] += 1\n",
    "        # Set the prev_vector to the latest one\n",
    "        callback_dict[\"prev_vector\"] = current_vector\n",
    "        # Compute the value of the cost function at the current vector\n",
    "        # This adds an additional function evaluation\n",
    "        current_cost = (\n",
    "            estimator.run(ansatz, hamiltonian, parameter_values=current_vector).result().values[0]\n",
    "        )\n",
    "        callback_dict[\"cost_history\"].append(current_cost)\n",
    "        # Print to screen on single line\n",
    "        print(\n",
    "            \"Iters. done: {} [Current cost: {}]\".format(callback_dict[\"iters\"], current_cost),\n",
    "            end=\"\\r\",\n",
    "            flush=True,\n",
    "        )\n",
    "\n",
    "    return callback\n"
   ]
  },
  {
   "cell_type": "code",
   "execution_count": 8,
   "metadata": {},
   "outputs": [],
   "source": [
    "callback_dict = {\n",
    "    \"prev_vector\": None,\n",
    "    \"iters\": 0,\n",
    "    \"cost_history\": [],\n",
    "}"
   ]
  },
  {
   "cell_type": "code",
   "execution_count": 9,
   "metadata": {},
   "outputs": [
    {
     "name": "stdout",
     "output_type": "stream",
     "text": [
      "8\n"
     ]
    }
   ],
   "source": [
    "num_params = ansatz.num_parameters\n",
    "print(num_params)\n",
    "x0 = 2 * np.pi * np.random.random(num_params)"
   ]
  },
  {
   "cell_type": "markdown",
   "metadata": {},
   "source": [
    "# 3. To Run Real Quantum Computer"
   ]
  },
  {
   "cell_type": "code",
   "execution_count": 10,
   "metadata": {},
   "outputs": [],
   "source": [
    "# IBM Qiskit Runtime\n",
    "from qiskit_ibm_runtime import QiskitRuntimeService\n",
    "from qiskit_ibm_runtime import Estimator, Sampler, Session, Options"
   ]
  },
  {
   "cell_type": "code",
   "execution_count": 11,
   "metadata": {},
   "outputs": [],
   "source": [
    "# Add your token below\n",
    "service = QiskitRuntimeService(channel='ibm_quantum', instance='ibm-q/open/main', token=IBM_token)"
   ]
  },
  {
   "cell_type": "code",
   "execution_count": 12,
   "metadata": {},
   "outputs": [
    {
     "name": "stdout",
     "output_type": "stream",
     "text": [
      "ibm_kyoto\n"
     ]
    }
   ],
   "source": [
    "\n",
    "backend=service.least_busy(operational=True, simulator=False)\n",
    "print(backend.name)\n",
    "session = Session(backend=backend)\n",
    "estimator = Estimator(session=session)\n",
    "sampler = Sampler(session=session)"
   ]
  },
  {
   "cell_type": "markdown",
   "metadata": {},
   "source": [
    "## 3b. Obtimize Circut for Efficiency\n",
    "First we need to optimize the circut to make it efficient for quantum computer"
   ]
  },
  {
   "cell_type": "code",
   "execution_count": 13,
   "metadata": {},
   "outputs": [
    {
     "name": "stderr",
     "output_type": "stream",
     "text": [
      "/opt/anaconda3/envs/quantum/lib/python3.8/site-packages/numpy/linalg/linalg.py:2139: RuntimeWarning: divide by zero encountered in det\n",
      "  r = _umath_linalg.det(a, signature=signature)\n",
      "/opt/anaconda3/envs/quantum/lib/python3.8/site-packages/numpy/linalg/linalg.py:2139: RuntimeWarning: invalid value encountered in det\n",
      "  r = _umath_linalg.det(a, signature=signature)\n"
     ]
    }
   ],
   "source": [
    "from qiskit.transpiler import PassManager\n",
    "from qiskit.transpiler.preset_passmanagers import generate_preset_pass_manager\n",
    "from qiskit.transpiler.passes import (\n",
    "    ALAPScheduleAnalysis,\n",
    "    PadDynamicalDecoupling,\n",
    "    ConstrainedReschedule,\n",
    ")\n",
    "from qiskit.circuit.library import XGate\n",
    "\n",
    "target = backend.target\n",
    "pm = generate_preset_pass_manager(target=target, optimization_level=3)\n",
    "pm.scheduling = PassManager(\n",
    "    [\n",
    "        ALAPScheduleAnalysis(target=target),\n",
    "        ConstrainedReschedule(target.acquire_alignment, target.pulse_alignment),\n",
    "        PadDynamicalDecoupling(\n",
    "            target=target, dd_sequence=[XGate(), XGate()], pulse_alignment=target.pulse_alignment\n",
    "        ),\n",
    "    ]\n",
    ")\n",
    "\n",
    "ansatz_ibm = pm.run(ansatz)"
   ]
  },
  {
   "cell_type": "code",
   "execution_count": 14,
   "metadata": {},
   "outputs": [
    {
     "data": {
      "image/png": "[encoded data removed]",
      "text/plain": [
       "<Figure size 1278.13x200.667 with 1 Axes>"
      ]
     },
     "execution_count": 14,
     "metadata": {},
     "output_type": "execute_result"
    }
   ],
   "source": [
    "ansatz_ibm.draw(output=\"mpl\", idle_wires=False, style=\"iqp\")"
   ]
  },
  {
   "cell_type": "code",
   "execution_count": 15,
   "metadata": {},
   "outputs": [
    {
     "data": {
      "text/plain": [
       "SparsePauliOp(['IIIIIIIIIIIIIIIIIIIIIIIIIIIIIIIIIIIIIIIIIIIIIIIIIIIIIIIIIIIIIIIIIIIIIIIIIIIIIIIIZYIIIIIIIIIIIIIIIIIIIIIIIIIIIIIIIIIIIIIIIIIIIII', 'IIIIIIIIIIIIIIIIIIIIIIIIIIIIIIIIIIIIIIIIIIIIIIIIIIIIIIIIIIIIIIIIIIIIIIIIIIIIIIIIIZIIIIIIIIIIIIIIIIIIIIIIIIIIIIIIIIIIIIIIIIIIIII', 'IIIIIIIIIIIIIIIIIIIIIIIIIIIIIIIIIIIIIIIIIIIIIIIIIIIIIIIIIIIIIIIIIIIIIIIIIIIIIIIIZZIIIIIIIIIIIIIIIIIIIIIIIIIIIIIIIIIIIIIIIIIIIII', 'IIIIIIIIIIIIIIIIIIIIIIIIIIIIIIIIIIIIIIIIIIIIIIIIIIIIIIIIIIIIIIIIIIIIIIIIIIIIIIIIXXIIIIIIIIIIIIIIIIIIIIIIIIIIIIIIIIIIIIIIIIIIIII'],\n",
       "              coeffs=[ 0.398 +0.j, -0.398 +0.j, -0.0113+0.j,  0.181 +0.j])"
      ]
     },
     "execution_count": 15,
     "metadata": {},
     "output_type": "execute_result"
    }
   ],
   "source": [
    "hamiltonian_ibm = hamiltonian.apply_layout(ansatz_ibm.layout)\n",
    "hamiltonian_ibm"
   ]
  },
  {
   "cell_type": "code",
   "execution_count": 21,
   "metadata": {},
   "outputs": [
    {
     "name": "stderr",
     "output_type": "stream",
     "text": [
      "/opt/anaconda3/envs/quantum/lib/python3.8/site-packages/qiskit_ibm_runtime/qiskit_runtime_service.py:935: UserWarning: Starting a session using the /jobs endpoint will no longer be supported after March 31, 2024. Please update your code as soon as possible before this date. If you are using qiskit-ibm-runtime, you will need version 0.20.0 or higher. If you are using qiskit-ibm-provider, you will need version 0.10.0 or higher. If you are calling the API directly, please use the /sessions endpoint instead.\n",
      "  warnings.warn(warning_message)\n"
     ]
    },
    {
     "name": "stdout",
     "output_type": "stream",
     "text": [
      "Iters. done: 7 [Current cost: -0.47968939875585154]\r"
     ]
    },
    {
     "name": "stderr",
     "output_type": "stream",
     "text": [
      "Traceback (most recent call last):\n",
      "capi_return is NULL\n",
      "Call-back cb_calcfc_in__cobyla__user__routines failed.\n",
      "Fatal Python error: F2PySwapThreadLocalCallbackPtr: PyLong_AsVoidPtr failed\n",
      "Python runtime state: initialized\n",
      "  File \"/opt/anaconda3/envs/quantum/lib/python3.8/site-packages/scipy/optimize/_cobyla_py.py\", line 258, in calcfc\n",
      "    f = fun(np.copy(x), *args)\n",
      "  File \"/var/folders/lx/_zyyxd0945x3lbrz0g5vm9940000gn/T/ipykernel_10662/1479460672.py\", line 17, in cost_func\n",
      "  File \"/opt/anaconda3/envs/quantum/lib/python3.8/site-packages/qiskit_ibm_runtime/estimator.py\", line 143, in run\n",
      "    return super().run(\n",
      "  File \"/opt/anaconda3/envs/quantum/lib/python3.8/site-packages/qiskit/primitives/base/base_estimator.py\", line 175, in run\n",
      "    return self._run(\n",
      "  File \"/opt/anaconda3/envs/quantum/lib/python3.8/site-packages/qiskit_ibm_runtime/estimator.py\", line 179, in _run\n",
      "    return self._run_primitive(\n",
      "  File \"/opt/anaconda3/envs/quantum/lib/python3.8/site-packages/qiskit_ibm_runtime/base_primitive.py\", line 168, in _run_primitive\n",
      "    return self._session.run(\n",
      "  File \"/opt/anaconda3/envs/quantum/lib/python3.8/site-packages/qiskit_ibm_runtime/session.py\", line 36, in _wrapper\n",
      "    return func(self, *args, **kwargs)\n",
      "  File \"/opt/anaconda3/envs/quantum/lib/python3.8/site-packages/qiskit_ibm_runtime/session.py\", line 173, in run\n",
      "    job = self._service.run(\n",
      "  File \"/opt/anaconda3/envs/quantum/lib/python3.8/site-packages/qiskit_ibm_runtime/qiskit_runtime_service.py\", line 940, in run\n",
      "    raise IBMRuntimeError(f\"Failed to run program: {ex}\") from None\n",
      "qiskit_ibm_runtime.exceptions.IBMRuntimeError: 'Failed to run program: \\'400 Client Error: Bad Request for url: https://api.quantum.ibm.com/runtime/jobs. {\"errors\":[{\"code\":1217,\"message\":\"Session has been closed.\",\"solution\":\"Reduce time between submitting subsequent jobs in a session.\",\"more_info\":\"https://docs.quantum-computing.ibm.com/errors\"}]}\\''\n"
     ]
    },
    {
     "ename": "",
     "evalue": "",
     "output_type": "error",
     "traceback": [
      "\u001b[1;31mThe Kernel crashed while executing code in the current cell or a previous cell. \n",
      "\u001b[1;31mPlease review the code in the cell(s) to identify a possible cause of the failure. \n",
      "\u001b[1;31mClick <a href='https://aka.ms/vscodeJupyterKernelCrash'>here</a> for more info. \n",
      "\u001b[1;31mView Jupyter <a href='command:jupyter.viewOutput'>log</a> for further details."
     ]
    }
   ],
   "source": [
    "options = Options()\n",
    "options.transpilation.skip_transpilation = True\n",
    "options.execution.shots = 1024\n",
    "\n",
    "with Session(backend=backend):\n",
    "    estimator = Estimator(options=options)\n",
    "    callback = build_callback(ansatz_ibm, hamiltonian_ibm, estimator, callback_dict)\n",
    "    res = minimize(\n",
    "        cost_func,\n",
    "        x0,\n",
    "        args=(ansatz_ibm, hamiltonian_ibm, estimator),\n",
    "        method=\"cobyla\",\n",
    "        callback=callback,\n",
    "    )"
   ]
  },
  {
   "cell_type": "markdown",
   "metadata": {},
   "source": [
    "qiskit_ibm_runtime.exceptions.IBMRuntimeError: 'Failed to run program: \\'400 Client Error: Bad Request for url: https://api.quantum.ibm.com/runtime/jobs. {\"errors\":[{\"code\":1217,\"message\":\"Session has been closed.\",\"solution\":\"Reduce time between submitting subsequent jobs in a session.\",\"more_info\":\"https://docs.quantum-computing.ibm.com/errors\"}]}\\''"
   ]
  },
  {
   "cell_type": "markdown",
   "metadata": {},
   "source": [
    "/opt/anaconda3/envs/quantum/lib/python3.8/site-packages/qiskit_ibm_runtime/qiskit_runtime_service.py:935: UserWarning: Starting a session using the /jobs endpoint will no longer be supported after March 31, 2024. Please update your code as soon as possible before this date. If you are using qiskit-ibm-runtime, you will need version 0.20.0 or higher. If you are using qiskit-ibm-provider, you will need version 0.10.0 or higher. If you are calling the API directly, please use the /sessions endpoint instead.\n",
    "  warnings.warn(warning_message)"
   ]
  },
  {
   "cell_type": "code",
   "execution_count": 16,
   "metadata": {},
   "outputs": [
    {
     "data": {
      "text/plain": [
       "EstimatorResult(values=array([-0.4796894]), metadata=[{'variance': 0.2579336494682758, 'shots': 1024, 'readout_mitigation_num_twirled_circuits': 16, 'readout_mitigation_shots_calibration': 8192, 'warning': 'Optimization level clipped from 3 to 1'}])"
      ]
     },
     "execution_count": 16,
     "metadata": {},
     "output_type": "execute_result"
    }
   ],
   "source": [
    "jobid= \"cqs4vgp88ev00080zbsg\"\n",
    "sessionid=\"cqs3ksf9nfw0008hp8h0\"\n",
    "\n",
    "retrieved_job = backend.service.job(jobid)\n",
    "retrieved_job.result()\n"
   ]
  },
  {
   "cell_type": "markdown",
   "metadata": {},
   "source": [
    "# 4. Post Processing"
   ]
  },
  {
   "cell_type": "code",
   "execution_count": 18,
   "metadata": {},
   "outputs": [
    {
     "ename": "NameError",
     "evalue": "name 'res' is not defined",
     "output_type": "error",
     "traceback": [
      "\u001b[0;31m---------------------------------------------------------------------------\u001b[0m",
      "\u001b[0;31mNameError\u001b[0m                                 Traceback (most recent call last)",
      "Cell \u001b[0;32mIn[18], line 1\u001b[0m\n\u001b[0;32m----> 1\u001b[0m \u001b[38;5;28mall\u001b[39m(callback_dict[\u001b[38;5;124m\"\u001b[39m\u001b[38;5;124mprev_vector\u001b[39m\u001b[38;5;124m\"\u001b[39m] \u001b[38;5;241m==\u001b[39m \u001b[43mres\u001b[49m\u001b[38;5;241m.\u001b[39mx)\n\u001b[1;32m      2\u001b[0m callback_dict[\u001b[38;5;124m\"\u001b[39m\u001b[38;5;124miters\u001b[39m\u001b[38;5;124m\"\u001b[39m] \u001b[38;5;241m==\u001b[39m res\u001b[38;5;241m.\u001b[39mnfev\n",
      "\u001b[0;31mNameError\u001b[0m: name 'res' is not defined"
     ]
    }
   ],
   "source": [
    "all(callback_dict[\"prev_vector\"] == res.x)\n",
    "callback_dict[\"iters\"] == res.nfev"
   ]
  },
  {
   "cell_type": "code",
   "execution_count": 19,
   "metadata": {},
   "outputs": [],
   "source": [
    "import matplotlib.pyplot as plt"
   ]
  },
  {
   "cell_type": "code",
   "execution_count": 20,
   "metadata": {},
   "outputs": [
    {
     "data": {
      "image/png": "[encoded data removed]",
      "text/plain": [
       "<Figure size 640x480 with 1 Axes>"
      ]
     },
     "metadata": {},
     "output_type": "display_data"
    }
   ],
   "source": [
    "fig, ax = plt.subplots()\n",
    "ax.plot(range(callback_dict[\"iters\"]), callback_dict[\"cost_history\"])\n",
    "ax.set_xlabel(\"Iterations\")\n",
    "ax.set_ylabel(\"Cost\")\n",
    "plt.draw()"
   ]
  },
  {
   "cell_type": "code",
   "execution_count": null,
   "metadata": {},
   "outputs": [],
   "source": []
  }
 ],
 "metadata": {
  "kernelspec": {
   "display_name": "quantum",
   "language": "python",
   "name": "python3"
  },
  "language_info": {
   "codemirror_mode": {
    "name": "ipython",
    "version": 3
   },
   "file_extension": ".py",
   "mimetype": "text/x-python",
   "name": "python",
   "nbconvert_exporter": "python",
   "pygments_lexer": "ipython3",
   "version": "3.8.18"
  }
 },
 "nbformat": 4,
 "nbformat_minor": 2
}

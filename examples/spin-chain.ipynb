{
 "cells": [
  {
   "cell_type": "code",
   "execution_count": 7,
   "metadata": {},
   "outputs": [],
   "source": [
    "L=3\n",
    "Delta=.5"
   ]
  },
  {
   "cell_type": "code",
   "execution_count": 8,
   "metadata": {},
   "outputs": [
    {
     "name": "stdout",
     "output_type": "stream",
     "text": [
      "SparsePauliOp(['IXX', 'IYY', 'IZZ', 'XXI', 'YYI', 'ZZI', 'XIX', 'YIY', 'ZIZ'],\n",
      "              coeffs=[0.25 +0.j, 0.25 +0.j, 0.125+0.j, 0.25 +0.j, 0.25 +0.j, 0.125+0.j,\n",
      " 0.25 +0.j, 0.25 +0.j, 0.125+0.j])\n"
     ]
    },
    {
     "data": {
      "text/plain": [
       "array([[ 0.375+0.j,  0.   +0.j,  0.   +0.j,  0.   +0.j,  0.   +0.j,\n",
       "         0.   +0.j,  0.   +0.j,  0.   +0.j],\n",
       "       [ 0.   +0.j, -0.125+0.j,  0.5  +0.j,  0.   +0.j,  0.5  +0.j,\n",
       "         0.   +0.j,  0.   +0.j,  0.   +0.j],\n",
       "       [ 0.   +0.j,  0.5  +0.j, -0.125+0.j,  0.   +0.j,  0.5  +0.j,\n",
       "         0.   +0.j,  0.   +0.j,  0.   +0.j],\n",
       "       [ 0.   +0.j,  0.   +0.j,  0.   +0.j, -0.125+0.j,  0.   +0.j,\n",
       "         0.5  +0.j,  0.5  +0.j,  0.   +0.j],\n",
       "       [ 0.   +0.j,  0.5  +0.j,  0.5  +0.j,  0.   +0.j, -0.125+0.j,\n",
       "         0.   +0.j,  0.   +0.j,  0.   +0.j],\n",
       "       [ 0.   +0.j,  0.   +0.j,  0.   +0.j,  0.5  +0.j,  0.   +0.j,\n",
       "        -0.125+0.j,  0.5  +0.j,  0.   +0.j],\n",
       "       [ 0.   +0.j,  0.   +0.j,  0.   +0.j,  0.5  +0.j,  0.   +0.j,\n",
       "         0.5  +0.j, -0.125+0.j,  0.   +0.j],\n",
       "       [ 0.   +0.j,  0.   +0.j,  0.   +0.j,  0.   +0.j,  0.   +0.j,\n",
       "         0.   +0.j,  0.   +0.j,  0.375+0.j]])"
      ]
     },
     "execution_count": 8,
     "metadata": {},
     "output_type": "execute_result"
    }
   ],
   "source": [
    "from qiskit_nature.second_q.hamiltonians.lattices import (\n",
    "   BoundaryCondition,\n",
    "   Lattice,\n",
    "   LatticeDrawStyle,\n",
    "   LineLattice,\n",
    ")\n",
    "from qiskit_nature.second_q.hamiltonians import HeisenbergModel\n",
    "\n",
    "from qiskit_nature.second_q.mappers import LogarithmicMapper\n",
    "\n",
    "num_nodes=L\n",
    "ham_sop = HeisenbergModel(LineLattice(num_nodes, boundary_condition=BoundaryCondition.PERIODIC), (1.0, 1.0, Delta), (0.0, 0.0, 0.0))\n",
    "\n",
    "ham_sop.second_q_op()\n",
    "\n",
    "logmapper = LogarithmicMapper()\n",
    "\n",
    "ham_op=logmapper.map(ham_sop.second_q_op())\n",
    "\n",
    "print(ham_op)\n",
    "\n",
    "ham_op.to_matrix()"
   ]
  },
  {
   "cell_type": "code",
   "execution_count": 7,
   "metadata": {},
   "outputs": [
    {
     "name": "stdout",
     "output_type": "stream",
     "text": [
      "Help on method second_q_op in module qiskit_nature.second_q.hamiltonians.heisenberg_model:\n",
      "\n",
      "second_q_op() -> 'SpinOp' method of qiskit_nature.second_q.hamiltonians.heisenberg_model.HeisenbergModel instance\n",
      "    Return the Hamiltonian of the Heisenberg model in terms of ``SpinOp``.\n",
      "    \n",
      "    Returns:\n",
      "        SpinOp: The Hamiltonian of the Heisenberg model.\n",
      "\n"
     ]
    }
   ],
   "source": [
    "help(ham_sop.second_q_op)"
   ]
  },
  {
   "cell_type": "code",
   "execution_count": null,
   "metadata": {},
   "outputs": [],
   "source": []
  }
 ],
 "metadata": {
  "kernelspec": {
   "display_name": "quantum",
   "language": "python",
   "name": "python3"
  },
  "language_info": {
   "codemirror_mode": {
    "name": "ipython",
    "version": 3
   },
   "file_extension": ".py",
   "mimetype": "text/x-python",
   "name": "python",
   "nbconvert_exporter": "python",
   "pygments_lexer": "ipython3",
   "version": "3.8.12"
  }
 },
 "nbformat": 4,
 "nbformat_minor": 2
}

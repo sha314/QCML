{
 "cells": [
  {
   "cell_type": "markdown",
   "metadata": {},
   "source": [
    "# Quantum Machine Learning"
   ]
  },
  {
   "cell_type": "markdown",
   "metadata": {},
   "source": [
    "Eigenvalue problem"
   ]
  },
  {
   "cell_type": "code",
   "execution_count": 52,
   "metadata": {},
   "outputs": [],
   "source": [
    "import os\n",
    "import qiskit\n",
    "\n",
    "from qiskit import *\n",
    "\n",
    "from qiskit_aer import Aer\n",
    "from qiskit_aer import *\n",
    "\n",
    "from qiskit.visualization import *\n",
    "\n",
    "# SciPy minimizer routine\n",
    "from scipy.optimize import minimize\n",
    "import time\n",
    "import numpy as np\n",
    "\n",
    "from qiskit.quantum_info import SparsePauliOp\n",
    "from qiskit.circuit.library import EfficientSU2\n",
    "\n",
    "from qiskit.circuit.library import TwoLocal\n",
    "from qiskit import QuantumCircuit\n"
   ]
  },
  {
   "cell_type": "code",
   "execution_count": 53,
   "metadata": {},
   "outputs": [
    {
     "name": "stdout",
     "output_type": "stream",
     "text": [
      "[[ 5.000000e-01-1.2246468e-16j -5.000000e-01+6.1232340e-17j\n",
      "   5.000000e-01+0.0000000e+00j -5.000000e-01-6.1232340e-17j]\n",
      " [-5.000000e-01+6.1232340e-17j  3.061617e-17+5.0000000e-01j\n",
      "   5.000000e-01+0.0000000e+00j  3.061617e-17-5.0000000e-01j]\n",
      " [ 5.000000e-01+0.0000000e+00j  5.000000e-01+0.0000000e+00j\n",
      "   5.000000e-01+0.0000000e+00j  5.000000e-01+0.0000000e+00j]\n",
      " [-5.000000e-01-6.1232340e-17j  3.061617e-17-5.0000000e-01j\n",
      "   5.000000e-01+0.0000000e+00j  3.061617e-17+5.0000000e-01j]]\n",
      "[[ 0.6875+0.00000000e+00j -0.125 -1.38777878e-17j  0.0625+3.06161700e-17j\n",
      "  -0.125 -4.51028104e-17j]\n",
      " [-0.125 +1.38777878e-17j  0.3125+0.00000000e+00j -0.125 -1.38777878e-17j\n",
      "   0.0625+3.06161700e-17j]\n",
      " [ 0.0625-3.06161700e-17j -0.125 +1.38777878e-17j  0.1875+0.00000000e+00j\n",
      "  -0.125 -1.38777878e-17j]\n",
      " [-0.125 +4.51028104e-17j  0.0625-3.06161700e-17j -0.125 +1.38777878e-17j\n",
      "   0.3125+0.00000000e+00j]]\n",
      "(['II', 'XI', 'ZI', 'IX', 'XX', 'IZ', 'ZZ'], [0.375, -0.125, 0.0625, 0.0625, -0.125, 0.125, 0.125], [array([[1.+0.j, 0.+0.j, 0.+0.j, 0.+0.j],\n",
      "       [0.+0.j, 1.+0.j, 0.+0.j, 0.+0.j],\n",
      "       [0.+0.j, 0.+0.j, 1.+0.j, 0.+0.j],\n",
      "       [0.+0.j, 0.+0.j, 0.+0.j, 1.+0.j]]), array([[0.+0.j, 1.+0.j, 0.+0.j, 0.+0.j],\n",
      "       [1.+0.j, 0.+0.j, 0.+0.j, 0.+0.j],\n",
      "       [0.+0.j, 0.+0.j, 0.+0.j, 1.+0.j],\n",
      "       [0.+0.j, 0.+0.j, 1.+0.j, 0.+0.j]]), array([[ 1.+0.j,  0.+0.j,  0.+0.j,  0.+0.j],\n",
      "       [ 0.+0.j, -1.+0.j,  0.+0.j, -0.+0.j],\n",
      "       [ 0.+0.j,  0.+0.j,  1.+0.j,  0.+0.j],\n",
      "       [ 0.+0.j, -0.+0.j,  0.+0.j, -1.+0.j]]), array([[0.+0.j, 0.+0.j, 1.+0.j, 0.+0.j],\n",
      "       [0.+0.j, 0.+0.j, 0.+0.j, 1.+0.j],\n",
      "       [1.+0.j, 0.+0.j, 0.+0.j, 0.+0.j],\n",
      "       [0.+0.j, 1.+0.j, 0.+0.j, 0.+0.j]]), array([[0.+0.j, 0.+0.j, 0.+0.j, 1.+0.j],\n",
      "       [0.+0.j, 0.+0.j, 1.+0.j, 0.+0.j],\n",
      "       [0.+0.j, 1.+0.j, 0.+0.j, 0.+0.j],\n",
      "       [1.+0.j, 0.+0.j, 0.+0.j, 0.+0.j]]), array([[ 1.+0.j,  0.+0.j,  0.+0.j,  0.+0.j],\n",
      "       [ 0.+0.j,  1.+0.j,  0.+0.j,  0.+0.j],\n",
      "       [ 0.+0.j,  0.+0.j, -1.+0.j, -0.+0.j],\n",
      "       [ 0.+0.j,  0.+0.j, -0.+0.j, -1.+0.j]]), array([[ 1.+0.j,  0.+0.j,  0.+0.j,  0.+0.j],\n",
      "       [ 0.+0.j, -1.+0.j,  0.+0.j, -0.+0.j],\n",
      "       [ 0.+0.j,  0.+0.j, -1.+0.j, -0.+0.j],\n",
      "       [ 0.+0.j, -0.+0.j, -0.+0.j,  1.-0.j]])])\n"
     ]
    }
   ],
   "source": [
    "%run ../src/harmonic-oscillator.py"
   ]
  },
  {
   "cell_type": "markdown",
   "metadata": {},
   "source": [
    "# Step 1. Map classical inputs to a quantum problem\n",
    "Get the decompositin of the Hamiltonian"
   ]
  },
  {
   "cell_type": "code",
   "execution_count": 54,
   "metadata": {},
   "outputs": [],
   "source": [
    "n_qubits = 5\n",
    "obs, coeffs , mat = decompose_ham_to_pauli(getHamiltonian(n_qubits))"
   ]
  },
  {
   "cell_type": "code",
   "execution_count": 55,
   "metadata": {},
   "outputs": [],
   "source": [
    "# obs"
   ]
  },
  {
   "cell_type": "code",
   "execution_count": 56,
   "metadata": {},
   "outputs": [],
   "source": [
    "opList = [(a, b) for a, b in zip(obs, coeffs)]"
   ]
  },
  {
   "cell_type": "code",
   "execution_count": 57,
   "metadata": {},
   "outputs": [],
   "source": [
    "# opList"
   ]
  },
  {
   "cell_type": "code",
   "execution_count": 58,
   "metadata": {},
   "outputs": [],
   "source": [
    "hamiltonian = SparsePauliOp.from_list(opList)"
   ]
  },
  {
   "cell_type": "code",
   "execution_count": 59,
   "metadata": {},
   "outputs": [],
   "source": [
    "# hamiltonian"
   ]
  },
  {
   "cell_type": "code",
   "execution_count": 60,
   "metadata": {},
   "outputs": [],
   "source": [
    "def cost_func(params, ansatz, hamiltonian, estimator):\n",
    "    \"\"\"Return estimate of energy from estimator\n",
    "\n",
    "    Parameters:\n",
    "        params (ndarray): Array of ansatz parameters\n",
    "        ansatz (QuantumCircuit): Parameterized ansatz circuit\n",
    "        hamiltonian (SparsePauliOp): Operator representation of Hamiltonian\n",
    "        estimator (Estimator): Estimator primitive instance\n",
    "\n",
    "    Returns:\n",
    "        float: Energy estimate\n",
    "    \"\"\"\n",
    "    energy = estimator.run(ansatz, hamiltonian, parameter_values=params).result().values[0]\n",
    "    return energy"
   ]
  },
  {
   "cell_type": "code",
   "execution_count": null,
   "metadata": {},
   "outputs": [],
   "source": []
  },
  {
   "cell_type": "markdown",
   "metadata": {},
   "source": [
    "# 2. Callback methods for better post processing\n",
    "\n",
    "We can introcude methods that will be executed at each iteration in QuantumComputer"
   ]
  },
  {
   "cell_type": "code",
   "execution_count": 62,
   "metadata": {},
   "outputs": [],
   "source": [
    "def build_callback(ansatz, hamiltonian, estimator, callback_dict):\n",
    "    \"\"\"Return callback function that uses Estimator instance,\n",
    "    and stores intermediate values into a dictionary.\n",
    "\n",
    "    Parameters:\n",
    "        ansatz (QuantumCircuit): Parameterized ansatz circuit\n",
    "        hamiltonian (SparsePauliOp): Operator representation of Hamiltonian\n",
    "        estimator (Estimator): Estimator primitive instance\n",
    "        callback_dict (dict): Mutable dict for storing values\n",
    "\n",
    "    Returns:\n",
    "        Callable: Callback function object\n",
    "    \"\"\"\n",
    "\n",
    "    def callback(current_vector):\n",
    "        \"\"\"Callback function storing previous solution vector,\n",
    "        computing the intermediate cost value, and displaying number\n",
    "        of completed iterations and average time per iteration.\n",
    "\n",
    "        Values are stored in pre-defined 'callback_dict' dictionary.\n",
    "\n",
    "        Parameters:\n",
    "            current_vector (ndarray): Current vector of parameters\n",
    "                                      returned by optimizer\n",
    "        \"\"\"\n",
    "        # Keep track of the number of iterations\n",
    "        callback_dict[\"iters\"] += 1\n",
    "        # Set the prev_vector to the latest one\n",
    "        callback_dict[\"prev_vector\"] = current_vector\n",
    "        # Compute the value of the cost function at the current vector\n",
    "        # This adds an additional function evaluation\n",
    "        current_cost = (\n",
    "            estimator.run(ansatz, hamiltonian, parameter_values=current_vector).result().values[0]\n",
    "        )\n",
    "        callback_dict[\"cost_history\"].append(current_cost)\n",
    "        # Print to screen on single line\n",
    "        print(\n",
    "            \"Iters. done: {} [Current cost: {}]\".format(callback_dict[\"iters\"], current_cost),\n",
    "            end=\"\\r\",\n",
    "            flush=True,\n",
    "        )\n",
    "\n",
    "    return callback\n"
   ]
  },
  {
   "cell_type": "markdown",
   "metadata": {},
   "source": [
    "#### Initialize the callback_dict dictionary"
   ]
  },
  {
   "cell_type": "code",
   "execution_count": 63,
   "metadata": {},
   "outputs": [],
   "source": [
    "callback_dict = {\n",
    "    \"prev_vector\": None,\n",
    "    \"iters\": 0,\n",
    "    \"cost_history\": [],\n",
    "}"
   ]
  },
  {
   "cell_type": "code",
   "execution_count": 64,
   "metadata": {},
   "outputs": [],
   "source": [
    "# num_params = ansatz.num_parameters\n",
    "# print(num_params)\n",
    "# x0 = 2 * np.pi * np.random.random(num_params)"
   ]
  },
  {
   "cell_type": "markdown",
   "metadata": {},
   "source": [
    "# 3. Running In Simulator "
   ]
  },
  {
   "cell_type": "code",
   "execution_count": 65,
   "metadata": {},
   "outputs": [],
   "source": [
    "# ansatz_sim=transpile(ansatz)\n",
    "# ansatz_sim.draw(output=\"mpl\")\n",
    "\n",
    "ansatz = EfficientSU2(hamiltonian.num_qubits)\n",
    "ansatz.decompose().draw(\"mpl\", style=\"iqp\")\n"
   ]
  },
  {
   "cell_type": "code",
   "execution_count": null,
   "metadata": {},
   "outputs": [],
   "source": [
    "ansatz_sim=transpile(ansatz)"
   ]
  },
  {
   "cell_type": "code",
   "execution_count": 66,
   "metadata": {},
   "outputs": [
    {
     "name": "stdout",
     "output_type": "stream",
     "text": [
      "(40,)\n",
      "Iters. done: 400 [Current cost: 2.208637873456708]]\r"
     ]
    }
   ],
   "source": [
    "from qiskit.primitives import Estimator\n",
    "\n",
    "backend = Aer.get_backend('qasm_simulator')\n",
    "\n",
    "# x0 is the initial values of the parameters\n",
    "x0 = np.ones(ansatz.num_parameters) * np.pi/4\n",
    "print(x0.shape)\n",
    "\n",
    "\n",
    "estimator = Estimator()\n",
    "estimator.options.shots=4096\n",
    "\n",
    "callback = build_callback(ansatz, hamiltonian, estimator, callback_dict)\n",
    "\n",
    "res = minimize(\n",
    "    cost_func,\n",
    "    x0,\n",
    "    args=(ansatz, hamiltonian, estimator),\n",
    "    method=\"cobyla\",\n",
    "    callback=callback,\n",
    "    options={\"maxiter\":1000}\n",
    ")\n",
    "\n"
   ]
  },
  {
   "cell_type": "code",
   "execution_count": 67,
   "metadata": {},
   "outputs": [
    {
     "data": {
      "text/plain": [
       " message: Optimization terminated successfully.\n",
       " success: True\n",
       "  status: 1\n",
       "     fun: 2.21163974605435\n",
       "       x: [ 2.082e+00  2.867e-01 ...  9.982e-02 -4.908e-01]\n",
       "    nfev: 400\n",
       "   maxcv: 0.0"
      ]
     },
     "execution_count": 67,
     "metadata": {},
     "output_type": "execute_result"
    }
   ],
   "source": [
    "res"
   ]
  },
  {
   "cell_type": "code",
   "execution_count": null,
   "metadata": {},
   "outputs": [],
   "source": []
  },
  {
   "cell_type": "markdown",
   "metadata": {},
   "source": [
    "# 4. Post Processing"
   ]
  },
  {
   "cell_type": "code",
   "execution_count": 68,
   "metadata": {},
   "outputs": [
    {
     "data": {
      "text/plain": [
       "True"
      ]
     },
     "execution_count": 68,
     "metadata": {},
     "output_type": "execute_result"
    }
   ],
   "source": [
    "all(callback_dict[\"prev_vector\"] == res.x)\n",
    "callback_dict[\"iters\"] == res.nfev"
   ]
  },
  {
   "cell_type": "code",
   "execution_count": 69,
   "metadata": {},
   "outputs": [],
   "source": [
    "import matplotlib.pyplot as plt"
   ]
  },
  {
   "cell_type": "code",
   "execution_count": 70,
   "metadata": {},
   "outputs": [
    {
     "data": {
      "image/png": "[encoded data removed]",
      "text/plain": [
       "<Figure size 640x480 with 1 Axes>"
      ]
     },
     "metadata": {},
     "output_type": "display_data"
    }
   ],
   "source": [
    "fig, ax = plt.subplots()\n",
    "ax.plot(range(callback_dict[\"iters\"]), callback_dict[\"cost_history\"])\n",
    "ax.set_xlabel(\"Iterations\")\n",
    "ax.set_ylabel(\"Cost\")\n",
    "plt.draw()"
   ]
  },
  {
   "cell_type": "code",
   "execution_count": null,
   "metadata": {},
   "outputs": [],
   "source": []
  }
 ],
 "metadata": {
  "kernelspec": {
   "display_name": "quantum",
   "language": "python",
   "name": "python3"
  },
  "language_info": {
   "codemirror_mode": {
    "name": "ipython",
    "version": 3
   },
   "file_extension": ".py",
   "mimetype": "text/x-python",
   "name": "python",
   "nbconvert_exporter": "python",
   "pygments_lexer": "ipython3",
   "version": "3.8.12"
  }
 },
 "nbformat": 4,
 "nbformat_minor": 2
}
